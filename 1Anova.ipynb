{
  "nbformat": 4,
  "nbformat_minor": 0,
  "metadata": {
    "colab": {
      "name": "1Anova.ipynb",
      "provenance": [],
      "authorship_tag": "ABX9TyN/PdePrt3IuRnBdOQKwT7r",
      "include_colab_link": true
    },
    "kernelspec": {
      "name": "python3",
      "display_name": "Python 3"
    },
    "language_info": {
      "name": "python"
    }
  },
  "cells": [
    {
      "cell_type": "markdown",
      "metadata": {
        "id": "view-in-github",
        "colab_type": "text"
      },
      "source": [
        "<a href=\"https://colab.research.google.com/github/Moorehe2/Assign2/blob/main/1Anova.ipynb\" target=\"_parent\"><img src=\"https://colab.research.google.com/assets/colab-badge.svg\" alt=\"Open In Colab\"/></a>"
      ]
    },
    {
      "cell_type": "markdown",
      "metadata": {
        "id": "cmSYn8oz1OWE"
      },
      "source": [
        "One Way Anova\n",
        "\n",
        "Import data from data.cdc.gov\n",
        "Patinet from Outpatient and "
      ]
    },
    {
      "cell_type": "code",
      "metadata": {
        "id": "B_BBIK9808QH"
      },
      "source": [
        "import pandas as pd\n",
        "import numpy as np\n",
        "!"
      ],
      "execution_count": null,
      "outputs": []
    },
    {
      "cell_type": "code",
      "metadata": {
        "id": "h1lI6rTh14x3",
        "colab": {
          "base_uri": "https://localhost:8080/",
          "height": 1000
        },
        "outputId": "17264353-8a7e-4bc3-e7ea-dde1776909b1"
      },
      "source": [
        "\n",
        "Visit = pd.read_json('https://data.cdc.gov/resource/xt86-xqxz.json')\n",
        "\n",
        "Visit.sample(200)\n",
        "\n",
        "\n",
        "\n"
      ],
      "execution_count": null,
      "outputs": [
        {
          "output_type": "execute_result",
          "data": {
            "text/html": [
              "<div>\n",
              "<style scoped>\n",
              "    .dataframe tbody tr th:only-of-type {\n",
              "        vertical-align: middle;\n",
              "    }\n",
              "\n",
              "    .dataframe tbody tr th {\n",
              "        vertical-align: top;\n",
              "    }\n",
              "\n",
              "    .dataframe thead th {\n",
              "        text-align: right;\n",
              "    }\n",
              "</style>\n",
              "<table border=\"1\" class=\"dataframe\">\n",
              "  <thead>\n",
              "    <tr style=\"text-align: right;\">\n",
              "      <th></th>\n",
              "      <th>indicator</th>\n",
              "      <th>panel</th>\n",
              "      <th>panel_num</th>\n",
              "      <th>unit</th>\n",
              "      <th>unit_num</th>\n",
              "      <th>stub_name</th>\n",
              "      <th>stub_name_num</th>\n",
              "      <th>stub_label</th>\n",
              "      <th>stub_label_num</th>\n",
              "      <th>year</th>\n",
              "      <th>year_num</th>\n",
              "      <th>age</th>\n",
              "      <th>age_num</th>\n",
              "      <th>estimate</th>\n",
              "      <th>flag</th>\n",
              "      <th>se</th>\n",
              "    </tr>\n",
              "  </thead>\n",
              "  <tbody>\n",
              "    <tr>\n",
              "      <th>968</th>\n",
              "      <td>Visits to physician offices, hospital outpatie...</td>\n",
              "      <td>Physician offices</td>\n",
              "      <td>2</td>\n",
              "      <td>Number of visits in thousands</td>\n",
              "      <td>1</td>\n",
              "      <td>Age</td>\n",
              "      <td>1</td>\n",
              "      <td>75 years and over</td>\n",
              "      <td>1.42</td>\n",
              "      <td>2000</td>\n",
              "      <td>1</td>\n",
              "      <td>75 years and over</td>\n",
              "      <td>1.42</td>\n",
              "      <td>97842.0</td>\n",
              "      <td>NaN</td>\n",
              "      <td>NaN</td>\n",
              "    </tr>\n",
              "    <tr>\n",
              "      <th>671</th>\n",
              "      <td>Visits to physician offices, hospital outpatie...</td>\n",
              "      <td>All places</td>\n",
              "      <td>1</td>\n",
              "      <td>Number of visits per 100 persons, crude</td>\n",
              "      <td>3</td>\n",
              "      <td>Race and age</td>\n",
              "      <td>5</td>\n",
              "      <td>White: 45-54 years</td>\n",
              "      <td>5.13</td>\n",
              "      <td>2015</td>\n",
              "      <td>16</td>\n",
              "      <td>45-54 years</td>\n",
              "      <td>1.31</td>\n",
              "      <td>NaN</td>\n",
              "      <td>...</td>\n",
              "      <td>NaN</td>\n",
              "    </tr>\n",
              "    <tr>\n",
              "      <th>241</th>\n",
              "      <td>Visits to physician offices, hospital outpatie...</td>\n",
              "      <td>All places</td>\n",
              "      <td>1</td>\n",
              "      <td>Number of visits per 100 persons, crude</td>\n",
              "      <td>3</td>\n",
              "      <td>Age</td>\n",
              "      <td>1</td>\n",
              "      <td>Under 18 years</td>\n",
              "      <td>1.10</td>\n",
              "      <td>2001</td>\n",
              "      <td>2</td>\n",
              "      <td>Under 18 years</td>\n",
              "      <td>1.10</td>\n",
              "      <td>305.0</td>\n",
              "      <td>NaN</td>\n",
              "      <td>NaN</td>\n",
              "    </tr>\n",
              "    <tr>\n",
              "      <th>861</th>\n",
              "      <td>Visits to physician offices, hospital outpatie...</td>\n",
              "      <td>Physician offices</td>\n",
              "      <td>2</td>\n",
              "      <td>Number of visits in thousands</td>\n",
              "      <td>1</td>\n",
              "      <td>Age</td>\n",
              "      <td>1</td>\n",
              "      <td>18-44 years</td>\n",
              "      <td>1.20</td>\n",
              "      <td>2007</td>\n",
              "      <td>8</td>\n",
              "      <td>18-44 years</td>\n",
              "      <td>1.20</td>\n",
              "      <td>257257.0</td>\n",
              "      <td>NaN</td>\n",
              "      <td>NaN</td>\n",
              "    </tr>\n",
              "    <tr>\n",
              "      <th>580</th>\n",
              "      <td>Visits to physician offices, hospital outpatie...</td>\n",
              "      <td>All places</td>\n",
              "      <td>1</td>\n",
              "      <td>Number of visits per 100 persons, crude</td>\n",
              "      <td>3</td>\n",
              "      <td>Sex and age</td>\n",
              "      <td>3</td>\n",
              "      <td>Female: 75 years and over</td>\n",
              "      <td>3.22</td>\n",
              "      <td>2004</td>\n",
              "      <td>5</td>\n",
              "      <td>75 years and over</td>\n",
              "      <td>1.42</td>\n",
              "      <td>806.0</td>\n",
              "      <td>NaN</td>\n",
              "      <td>NaN</td>\n",
              "    </tr>\n",
              "    <tr>\n",
              "      <th>...</th>\n",
              "      <td>...</td>\n",
              "      <td>...</td>\n",
              "      <td>...</td>\n",
              "      <td>...</td>\n",
              "      <td>...</td>\n",
              "      <td>...</td>\n",
              "      <td>...</td>\n",
              "      <td>...</td>\n",
              "      <td>...</td>\n",
              "      <td>...</td>\n",
              "      <td>...</td>\n",
              "      <td>...</td>\n",
              "      <td>...</td>\n",
              "      <td>...</td>\n",
              "      <td>...</td>\n",
              "      <td>...</td>\n",
              "    </tr>\n",
              "    <tr>\n",
              "      <th>41</th>\n",
              "      <td>Visits to physician offices, hospital outpatie...</td>\n",
              "      <td>All places</td>\n",
              "      <td>1</td>\n",
              "      <td>Number of visits in thousands</td>\n",
              "      <td>1</td>\n",
              "      <td>Age</td>\n",
              "      <td>1</td>\n",
              "      <td>18-44 years</td>\n",
              "      <td>1.20</td>\n",
              "      <td>2009</td>\n",
              "      <td>10</td>\n",
              "      <td>18-44 years</td>\n",
              "      <td>1.20</td>\n",
              "      <td>341209.0</td>\n",
              "      <td>NaN</td>\n",
              "      <td>NaN</td>\n",
              "    </tr>\n",
              "    <tr>\n",
              "      <th>285</th>\n",
              "      <td>Visits to physician offices, hospital outpatie...</td>\n",
              "      <td>All places</td>\n",
              "      <td>1</td>\n",
              "      <td>Number of visits per 100 persons, crude</td>\n",
              "      <td>3</td>\n",
              "      <td>Age</td>\n",
              "      <td>1</td>\n",
              "      <td>45-64 years</td>\n",
              "      <td>1.30</td>\n",
              "      <td>2013</td>\n",
              "      <td>14</td>\n",
              "      <td>45-64 years</td>\n",
              "      <td>1.30</td>\n",
              "      <td>NaN</td>\n",
              "      <td>...</td>\n",
              "      <td>NaN</td>\n",
              "    </tr>\n",
              "    <tr>\n",
              "      <th>507</th>\n",
              "      <td>Visits to physician offices, hospital outpatie...</td>\n",
              "      <td>All places</td>\n",
              "      <td>1</td>\n",
              "      <td>Number of visits per 100 persons, crude</td>\n",
              "      <td>3</td>\n",
              "      <td>Sex and age</td>\n",
              "      <td>3</td>\n",
              "      <td>Female: Under 18 years</td>\n",
              "      <td>3.17</td>\n",
              "      <td>2011</td>\n",
              "      <td>12</td>\n",
              "      <td>Under 18 years</td>\n",
              "      <td>1.10</td>\n",
              "      <td>341.0</td>\n",
              "      <td>NaN</td>\n",
              "      <td>NaN</td>\n",
              "    </tr>\n",
              "    <tr>\n",
              "      <th>533</th>\n",
              "      <td>Visits to physician offices, hospital outpatie...</td>\n",
              "      <td>All places</td>\n",
              "      <td>1</td>\n",
              "      <td>Number of visits per 100 persons, crude</td>\n",
              "      <td>3</td>\n",
              "      <td>Sex and age</td>\n",
              "      <td>3</td>\n",
              "      <td>Female: 45-54 years</td>\n",
              "      <td>3.19</td>\n",
              "      <td>2005</td>\n",
              "      <td>6</td>\n",
              "      <td>45-54 years</td>\n",
              "      <td>1.31</td>\n",
              "      <td>476.0</td>\n",
              "      <td>NaN</td>\n",
              "      <td>NaN</td>\n",
              "    </tr>\n",
              "    <tr>\n",
              "      <th>153</th>\n",
              "      <td>Visits to physician offices, hospital outpatie...</td>\n",
              "      <td>All places</td>\n",
              "      <td>1</td>\n",
              "      <td>Number of visits per 100 persons, age-adjusted</td>\n",
              "      <td>2</td>\n",
              "      <td>Total</td>\n",
              "      <td>0</td>\n",
              "      <td>All persons</td>\n",
              "      <td>0.10</td>\n",
              "      <td>2009</td>\n",
              "      <td>10</td>\n",
              "      <td>All ages</td>\n",
              "      <td>0.10</td>\n",
              "      <td>414.0</td>\n",
              "      <td>NaN</td>\n",
              "      <td>NaN</td>\n",
              "    </tr>\n",
              "  </tbody>\n",
              "</table>\n",
              "<p>200 rows × 16 columns</p>\n",
              "</div>"
            ],
            "text/plain": [
              "                                             indicator  ...  se\n",
              "968  Visits to physician offices, hospital outpatie...  ... NaN\n",
              "671  Visits to physician offices, hospital outpatie...  ... NaN\n",
              "241  Visits to physician offices, hospital outpatie...  ... NaN\n",
              "861  Visits to physician offices, hospital outpatie...  ... NaN\n",
              "580  Visits to physician offices, hospital outpatie...  ... NaN\n",
              "..                                                 ...  ...  ..\n",
              "41   Visits to physician offices, hospital outpatie...  ... NaN\n",
              "285  Visits to physician offices, hospital outpatie...  ... NaN\n",
              "507  Visits to physician offices, hospital outpatie...  ... NaN\n",
              "533  Visits to physician offices, hospital outpatie...  ... NaN\n",
              "153  Visits to physician offices, hospital outpatie...  ... NaN\n",
              "\n",
              "[200 rows x 16 columns]"
            ]
          },
          "metadata": {},
          "execution_count": 13
        }
      ]
    },
    {
      "cell_type": "markdown",
      "metadata": {
        "id": "EkkQ76nUKLN_"
      },
      "source": [
        "Define variables "
      ]
    },
    {
      "cell_type": "markdown",
      "metadata": {
        "id": "29ZCmLZ31Bk_"
      },
      "source": [
        "\n"
      ]
    },
    {
      "cell_type": "code",
      "metadata": {
        "colab": {
          "base_uri": "https://localhost:8080/"
        },
        "id": "k5dO4g6GLWJU",
        "outputId": "b0870979-6740-4a29-f1f2-5af69e656fdc"
      },
      "source": [
        "import pandas as pd\n",
        "import scipy.stats as stats\n",
        "import statsmodels.formula.api as smf\n",
        "import matplotlib.pyplot as plt\n",
        "from scipy.stats import kurtosis, skew, bartlett\n",
        "\n",
        "\n"
      ],
      "execution_count": null,
      "outputs": [
        {
          "output_type": "stream",
          "name": "stderr",
          "text": [
            "/usr/local/lib/python3.7/dist-packages/statsmodels/tools/_testing.py:19: FutureWarning: pandas.util.testing is deprecated. Use the functions in the public API at pandas.testing instead.\n",
            "  import pandas.util.testing as tm\n"
          ]
        }
      ]
    },
    {
      "cell_type": "code",
      "metadata": {
        "colab": {
          "base_uri": "https://localhost:8080/"
        },
        "id": "GTh9QONlNiG6",
        "outputId": "6f0a9d42-d3e0-4a9d-e531-3647d1531e5a"
      },
      "source": [
        "Visit.stub_label.value_counts()"
      ],
      "execution_count": null,
      "outputs": [
        {
          "output_type": "execute_result",
          "data": {
            "text/plain": [
              "All persons                                     80\n",
              "Under 18 years                                  51\n",
              "55-64 years                                     51\n",
              "45-64 years                                     51\n",
              "18-44 years                                     51\n",
              "75 years and over                               51\n",
              "65 years and over                               51\n",
              "45-54 years                                     51\n",
              "65-74 years                                     51\n",
              "Male                                            32\n",
              "Female                                          32\n",
              "Black or African American                       32\n",
              "White                                           32\n",
              "Black or African American: 65-74 years          16\n",
              "Male: Under 18 years                            16\n",
              "Female: 65-74 years                             16\n",
              "Female: 55-64 years                             16\n",
              "Female: Under 18 years                          16\n",
              "White: 65-74 years                              16\n",
              "Female: 75 years and over                       16\n",
              "White: 75 years and over                        16\n",
              "White: Under 18 years                           16\n",
              "Black or African American: 45-54 years          16\n",
              "Male: 45-54 years                               16\n",
              "White: 45-54 years                              16\n",
              "Female: 18-44 years                             16\n",
              "Black or African American: 55-64 years          16\n",
              "Male: 75 years and over                         16\n",
              "Male: 55-64 years                               16\n",
              "Male: 18-44 years                               16\n",
              "Black or African American: 75 years and over    16\n",
              "Black or African American: Under 18 years       16\n",
              "White: 18-44 years                              16\n",
              "Female: 45-54 years                             16\n",
              "Black or African American: 18-44 years          16\n",
              "Male: 65-74 years                               16\n",
              "White: 55-64 years                              16\n",
              "Name: stub_label, dtype: int64"
            ]
          },
          "metadata": {},
          "execution_count": 16
        }
      ]
    },
    {
      "cell_type": "markdown",
      "metadata": {
        "id": "xanrvIq_RB31"
      },
      "source": [
        "Independent Variables are Age1, Age2, Age3, Dependent varibable is Panel. What are the differences in Vistit to Medical Facilities?"
      ]
    },
    {
      "cell_type": "code",
      "metadata": {
        "id": "aJm_wCiQT9kg"
      },
      "source": [
        "unit_num = Visit['unit_num']"
      ],
      "execution_count": null,
      "outputs": []
    },
    {
      "cell_type": "code",
      "metadata": {
        "colab": {
          "base_uri": "https://localhost:8080/"
        },
        "id": "9JX5hz6RLesP",
        "outputId": "623bcd4b-8f93-4ee9-c333-de7958fd726e"
      },
      "source": [
        "Age1 = Visit[Visit['stub_label'] == 'Under 18 years']\n",
        "Age2 = Visit[Visit['stub_label'] == '55-64 years']\n",
        "Age3 = Visit[Visit['stub_label'] == '65 years and over']\n",
        "\n",
        "\n",
        "\n",
        "\n",
        "\n",
        "\n",
        "stats.f_oneway(Age1['unit_num'],\n",
        "               Age2['unit_num'],\n",
        "               Age3['unit_num'])\n",
        "\n",
        "\n",
        "\n",
        "\n",
        "\n",
        "\n",
        "\n",
        "\n"
      ],
      "execution_count": null,
      "outputs": [
        {
          "output_type": "execute_result",
          "data": {
            "text/plain": [
              "F_onewayResult(statistic=0.0, pvalue=1.0)"
            ]
          },
          "metadata": {},
          "execution_count": 33
        }
      ]
    },
    {
      "cell_type": "markdown",
      "metadata": {
        "id": "EM48dwB3W4Fc"
      },
      "source": [
        "Post hoc test\n",
        "\n"
      ]
    },
    {
      "cell_type": "code",
      "metadata": {
        "id": "Dpzn4e3RgKgY"
      },
      "source": [
        "from bioinfokit.analys import stat\n",
        "# perform multiple pairwise comparison (Tukey HSD)\n",
        "# unequal sample size data, tukey_hsd uses Tukey-Kramer test\n",
        "res = stat()\n",
        "res.tukey_hsd(df=workingdf, res_var='unit_num', xfac_var='Stub_label', \n",
        "              anova_model='chol~C(cp)+C(thal)+C(cp):C(thal)')\n",
        "res.tukey_summary\n"
      ],
      "execution_count": null,
      "outputs": []
    },
    {
      "cell_type": "code",
      "metadata": {
        "colab": {
          "base_uri": "https://localhost:8080/",
          "height": 265
        },
        "id": "eut1-gluXIQS",
        "outputId": "54358d62-5773-4abd-d910-dc809f46694d"
      },
      "source": [
        "plt.hist(Age1['unit_num'])\n",
        "plt.show()\n",
        "\n"
      ],
      "execution_count": null,
      "outputs": [
        {
          "output_type": "display_data",
          "data": {
            "image/png": "[encoded data removed]",
            "text/plain": [
              "<Figure size 432x288 with 1 Axes>"
            ]
          },
          "metadata": {
            "needs_background": "light"
          }
        }
      ]
    },
    {
      "cell_type": "code",
      "metadata": {
        "colab": {
          "base_uri": "https://localhost:8080/",
          "height": 265
        },
        "id": "WGXsDGMbXCnj",
        "outputId": "a7814ef1-8a58-4325-aec0-42556ce7e95e"
      },
      "source": [
        "plt.hist(Age2['unit_num'])\n",
        "plt.show()"
      ],
      "execution_count": null,
      "outputs": [
        {
          "output_type": "display_data",
          "data": {
            "image/png": "[encoded data removed]",
            "text/plain": [
              "<Figure size 432x288 with 1 Axes>"
            ]
          },
          "metadata": {
            "needs_background": "light"
          }
        }
      ]
    },
    {
      "cell_type": "markdown",
      "metadata": {
        "id": "GdpnfF2xX1uG"
      },
      "source": [
        "Unit 3"
      ]
    },
    {
      "cell_type": "code",
      "metadata": {
        "colab": {
          "base_uri": "https://localhost:8080/",
          "height": 265
        },
        "id": "qMKUXkGEYXLV",
        "outputId": "c7e04ada-4dbb-4e35-bc2c-2e9be35378c4"
      },
      "source": [
        "plt.hist(Age3['unit_num'])\n",
        "plt.show()"
      ],
      "execution_count": null,
      "outputs": [
        {
          "output_type": "display_data",
          "data": {
            "image/png": "[encoded data removed]",
            "text/plain": [
              "<Figure size 432x288 with 1 Axes>"
            ]
          },
          "metadata": {
            "needs_background": "light"
          }
        }
      ]
    },
    {
      "cell_type": "markdown",
      "metadata": {
        "id": "bGkv7wI6XxYJ"
      },
      "source": [
        ""
      ]
    },
    {
      "cell_type": "markdown",
      "metadata": {
        "id": "y5OxA0hAYnj0"
      },
      "source": [
        "Post hoc test\n"
      ]
    },
    {
      "cell_type": "markdown",
      "metadata": {
        "id": "xToEDb8MdfDO"
      },
      "source": [
        ""
      ]
    },
    {
      "cell_type": "code",
      "metadata": {
        "colab": {
          "base_uri": "https://localhost:8080/"
        },
        "id": "MgsHRvucdLLU",
        "outputId": "9ba0eb5e-a820-41b5-cc82-cf4fdc9d570b"
      },
      "source": [
        "import statsmodels.stats.multicomp as mc\n",
        "comp = mc.MultiComparison(Visit['stub_label_num'], Visit['unit_num'])\n",
        "post_hoc_res = comp.tukeyhsd()\n",
        "tukey1way = pd.DataFrame(post_hoc_res.summary())\n",
        "\n",
        "\n",
        "Age1['unit_num'].describe()\n",
        "Age2['unit_num'].describe()\n",
        "Age3['unit_num'].describe()\n"
      ],
      "execution_count": 49,
      "outputs": [
        {
          "output_type": "execute_result",
          "data": {
            "text/plain": [
              "count    51.000000\n",
              "mean      1.627451\n",
              "std       0.937247\n",
              "min       1.000000\n",
              "25%       1.000000\n",
              "50%       1.000000\n",
              "75%       3.000000\n",
              "max       3.000000\n",
              "Name: unit_num, dtype: float64"
            ]
          },
          "metadata": {},
          "execution_count": 49
        }
      ]
    }
  ]
}