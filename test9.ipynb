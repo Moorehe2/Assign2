{
  "nbformat": 4,
  "nbformat_minor": 0,
  "metadata": {
    "colab": {
      "name": "test9.ipynb",
      "provenance": [],
      "collapsed_sections": [],
      "authorship_tag": "ABX9TyNZlGqFy++0nDQ8j4h7VxLV",
      "include_colab_link": true
    },
    "kernelspec": {
      "name": "python3",
      "display_name": "Python 3"
    },
    "language_info": {
      "name": "python"
    }
  },
  "cells": [
    {
      "cell_type": "markdown",
      "metadata": {
        "id": "view-in-github",
        "colab_type": "text"
      },
      "source": [
        "<a href=\"https://colab.research.google.com/github/Moorehe2/Assign2/blob/main/test9.ipynb\" target=\"_parent\"><img src=\"https://colab.research.google.com/assets/colab-badge.svg\" alt=\"Open In Colab\"/></a>"
      ]
    },
    {
      "cell_type": "code",
      "metadata": {
        "colab": {
          "base_uri": "https://localhost:8080/"
        },
        "id": "FlhDMDdPkGU2",
        "outputId": "18148e2d-ed58-49f6-df79-59bb5ab91b47"
      },
      "source": [
        "\n",
        "\n",
        "\n",
        "import pandas as pd\n",
        "\n",
        "diabetes = pd.read_csv('https://raw.githubusercontent.com/hantswilliams/AHI_DataSci_507/main/Datasets/Diabetes/DB1_Diabetes/diabetic_data.csv')\n",
        "\n",
        "diabetes_small = diabetes.sample(100)\n",
        "\n",
        "### generate list of var names \n",
        "list(diabetes_small)\n",
        "\n",
        "timeinhospital = diabetes['time_in_hospital']\n",
        "labprocedures = diabetes['num_lab_procedures'] \n",
        "\n",
        "\n",
        "##### T-test \n",
        "from scipy.stats import ttest_ind\n",
        "\n",
        "\n",
        "# Is there a difference between sex (M:F) (IV) \n",
        "# and the number of time_in_hospital (DV) performed? \n",
        "\n",
        "# gender\n",
        "# time_in_hospital\n",
        "\n",
        "Female = diabetes[diabetes['gender']=='Female']\n",
        "Male = diabetes[diabetes['gender']=='Male']\n",
        "ttest_ind(Female['time_in_hospital'], Male['time_in_hospital'])\n",
        "\n",
        "\n",
        "\n",
        "\n"
      ],
      "execution_count": 9,
      "outputs": [
        {
          "output_type": "execute_result",
          "data": {
            "text/plain": [
              "Ttest_indResult(statistic=9.542637042242887, pvalue=1.4217299655114968e-21)"
            ]
          },
          "metadata": {},
          "execution_count": 9
        }
      ]
    },
    {
      "cell_type": "markdown",
      "metadata": {
        "id": "ZX8yBnn7pfDO"
      },
      "source": [
        "The test is no difference in between male and female number of time in hospial."
      ]
    },
    {
      "cell_type": "code",
      "metadata": {
        "colab": {
          "base_uri": "https://localhost:8080/"
        },
        "id": "c0scANs6m50k",
        "outputId": "0583546c-7598-4533-96b6-6fb0b59a5bc1"
      },
      "source": [
        "##### T-test \n",
        "from scipy.stats import ttest_ind\n",
        "\n",
        "\n",
        "# Is there a difference between race (Caucasian and African American) (IV) \n",
        "# and the time_in_hospital (DV) performed? \n",
        "\n",
        "# race\n",
        "# time_in_hospital\n",
        "\n",
        "Caucasian = diabetes[diabetes['race']=='Caucasian']\n",
        "AfricanAmerican = diabetes[diabetes['race']=='AfricanAmerican']\n",
        "ttest_ind(Caucasian['time_in_hospital'], AfricanAmerican['time_in_hospital'])\n"
      ],
      "execution_count": 6,
      "outputs": [
        {
          "output_type": "execute_result",
          "data": {
            "text/plain": [
              "Ttest_indResult(statistic=-5.0610017032095325, pvalue=4.178330085585203e-07)"
            ]
          },
          "metadata": {},
          "execution_count": 6
        }
      ]
    },
    {
      "cell_type": "markdown",
      "metadata": {
        "id": "pTQ9BN79qgzs"
      },
      "source": [
        "Ttest result there is no difference in Caucasian and African American because the p vlause is 4.17"
      ]
    },
    {
      "cell_type": "code",
      "metadata": {
        "colab": {
          "base_uri": "https://localhost:8080/"
        },
        "id": "T9512Chhqjkf",
        "outputId": "c2e8e602-691d-4630-e2f4-6aad2fa5d11a"
      },
      "source": [
        "list(diabetes_small)\n"
      ],
      "execution_count": 7,
      "outputs": [
        {
          "output_type": "execute_result",
          "data": {
            "text/plain": [
              "['encounter_id',\n",
              " 'patient_nbr',\n",
              " 'race',\n",
              " 'gender',\n",
              " 'age',\n",
              " 'weight',\n",
              " 'admission_type_id',\n",
              " 'discharge_disposition_id',\n",
              " 'admission_source_id',\n",
              " 'time_in_hospital',\n",
              " 'payer_code',\n",
              " 'medical_specialty',\n",
              " 'num_lab_procedures',\n",
              " 'num_procedures',\n",
              " 'num_medications',\n",
              " 'number_outpatient',\n",
              " 'number_emergency',\n",
              " 'number_inpatient',\n",
              " 'diag_1',\n",
              " 'diag_2',\n",
              " 'diag_3',\n",
              " 'number_diagnoses',\n",
              " 'max_glu_serum',\n",
              " 'A1Cresult',\n",
              " 'metformin',\n",
              " 'repaglinide',\n",
              " 'nateglinide',\n",
              " 'chlorpropamide',\n",
              " 'glimepiride',\n",
              " 'acetohexamide',\n",
              " 'glipizide',\n",
              " 'glyburide',\n",
              " 'tolbutamide',\n",
              " 'pioglitazone',\n",
              " 'rosiglitazone',\n",
              " 'acarbose',\n",
              " 'miglitol',\n",
              " 'troglitazone',\n",
              " 'tolazamide',\n",
              " 'examide',\n",
              " 'citoglipton',\n",
              " 'insulin',\n",
              " 'glyburide-metformin',\n",
              " 'glipizide-metformin',\n",
              " 'glimepiride-pioglitazone',\n",
              " 'metformin-rosiglitazone',\n",
              " 'metformin-pioglitazone',\n",
              " 'change',\n",
              " 'diabetesMed',\n",
              " 'readmitted']"
            ]
          },
          "metadata": {},
          "execution_count": 7
        }
      ]
    },
    {
      "cell_type": "code",
      "metadata": {
        "colab": {
          "base_uri": "https://localhost:8080/"
        },
        "id": "l4FVqrs3qgZD",
        "outputId": "abbe24fb-982d-4bab-d503-2883a69ec149"
      },
      "source": [
        "##### T-test \n",
        "from scipy.stats import ttest_ind\n",
        "\n",
        "\n",
        "# Is there a difference between race(IV) \n",
        "# and the number of lab procedures (DV) performed? \n",
        "\n",
        "# race\n",
        "# num_lab_procedures\n",
        "\n",
        "Asian= diabetes[diabetes['race']=='Asian']\n",
        "AfricanAmerican= diabetes[diabetes['race']=='AfricanAmerican']\n",
        "ttest_ind(Asian['num_lab_procedures'], AfricanAmerican['num_lab_procedures'])\n",
        "\n",
        "\n"
      ],
      "execution_count": 8,
      "outputs": [
        {
          "output_type": "execute_result",
          "data": {
            "text/plain": [
              "Ttest_indResult(statistic=-3.9788715315360292, pvalue=6.948907528800307e-05)"
            ]
          },
          "metadata": {},
          "execution_count": 8
        }
      ]
    },
    {
      "cell_type": "markdown",
      "metadata": {
        "id": "9gJVfaAvyBhf"
      },
      "source": [
        "tTest there is no difference in Asian and AfricanAmerican when performing lab testing."
      ]
    }
  ]
}